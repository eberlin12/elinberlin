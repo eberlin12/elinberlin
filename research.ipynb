{
  "cells": [
    {
      "cell_type": "raw",
      "metadata": {},
      "source": [
        "---\n",
        "title: \"My Document\"\n",
        "format: html\n",
        "\n",
        "---"
      ],
      "id": "f5ca16b1"
    },
    {
      "cell_type": "markdown",
      "metadata": {},
      "source": [
        "```{html}\n",
        "<table width=\"200\" border=\"1\" class=\"table\">\n",
        "    <tr>\n",
        "        <td><a href=\"#\">&nbsp;</a></td>\n",
        "        <td>&nbsp;</td>\n",
        "        <td>&nbsp;</td>\n",
        "    </tr>\n",
        "</table>\n",
        "```"
      ],
      "id": "6e78843a"
    }
  ],
  "metadata": {
    "kernelspec": {
      "display_name": "Python 3",
      "language": "python",
      "name": "python3"
    }
  },
  "nbformat": 4,
  "nbformat_minor": 5
}